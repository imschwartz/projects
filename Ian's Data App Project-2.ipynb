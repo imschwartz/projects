{
  "metadata": {
    "kernelspec": {
      "name": "python",
      "display_name": "Python (Pyodide)",
      "language": "python"
    },
    "language_info": {
      "codemirror_mode": {
        "name": "python",
        "version": 3
      },
      "file_extension": ".py",
      "mimetype": "text/x-python",
      "name": "python",
      "nbconvert_exporter": "python",
      "pygments_lexer": "ipython3",
      "version": "3.8"
    }
  },
  "nbformat_minor": 4,
  "nbformat": 4,
  "cells": [
    {
      "cell_type": "markdown",
      "source": "### New App Project\n\nDetermine which app types will attract the most users based on analyzing Google Play store data.",
      "metadata": {}
    },
    {
      "cell_type": "code",
      "source": "from csv import reader\n\n#Google Play Store data\nopened_file = open('googleplaystore.csv')\nread_file = reader(opened_file)\nandroid = list(read_file)\nandroid_header = android[0]\nandroid_data = android[1:]\n\nprint(len(android_data))\n",
      "metadata": {},
      "execution_count": 3,
      "outputs": [
        {
          "name": "stdout",
          "output_type": "stream",
          "text": "10841\n"
        }
      ]
    },
    {
      "cell_type": "markdown",
      "source": "Let's see what the data looks like and what columns would make sense to analyze.",
      "metadata": {}
    },
    {
      "cell_type": "code",
      "source": "def explore_data(dataset, start, end, rows_and_columns=True):\n    dataset_slice = dataset[start:end]    \n    for row in dataset_slice:\n        print(row)\n        print('\\n') \n        \n    if rows_and_columns:\n        print('Number of rows:', len(dataset))\n        print('Number of columns:', len(dataset[0]))",
      "metadata": {},
      "execution_count": 4,
      "outputs": []
    },
    {
      "cell_type": "code",
      "source": "print(android_header)\nprint('\\n')\nexplore_data(android_data,0,3)",
      "metadata": {},
      "execution_count": 5,
      "outputs": [
        {
          "name": "stdout",
          "output_type": "stream",
          "text": "['App', 'Category', 'Rating', 'Reviews', 'Size', 'Installs', 'Type', 'Price', 'Content Rating', 'Genres', 'Last Updated', 'Current Ver', 'Android Ver']\n\n\n\n\n\n['Photo Editor & Candy Camera & Grid & ScrapBook', 'ART_AND_DESIGN', '4.1', '159', '19M', '10,000+', 'Free', '0', 'Everyone', 'Art & Design', 'January 7, 2018', '1.0.0', '4.0.3 and up']\n\n\n\n\n\n['Coloring book moana', 'ART_AND_DESIGN', '3.9', '967', '14M', '500,000+', 'Free', '0', 'Everyone', 'Art & Design;Pretend Play', 'January 15, 2018', '2.0.0', '4.0.3 and up']\n\n\n\n\n\n['U Launcher Lite – FREE Live Cool Themes, Hide Apps', 'ART_AND_DESIGN', '4.7', '87510', '8.7M', '5,000,000+', 'Free', '0', 'Everyone', 'Art & Design', 'August 1, 2018', '1.2.4', '4.0.3 and up']\n\n\n\n\n\nNumber of rows: 10841\n\nNumber of columns: 13\n"
        }
      ]
    },
    {
      "cell_type": "markdown",
      "source": "Remove row with one column missing (bad data).",
      "metadata": {}
    },
    {
      "cell_type": "code",
      "source": "del android_data[10472]",
      "metadata": {},
      "execution_count": 6,
      "outputs": []
    },
    {
      "cell_type": "markdown",
      "source": "Below we'll check for duplicates in each dataset.",
      "metadata": {}
    },
    {
      "cell_type": "code",
      "source": "duplicate_apps_android=[]\nunique_apps_android=[]\n\nfor app in android_data:\n    name = app[0]\n    if name in unique_apps_android:\n        duplicate_apps_android.append(name)\n    else:\n        unique_apps_android.append(name)\n\nprint('Google Play Store duplicates:',len(duplicate_apps_android))\nprint('\\n')\nprint('Examples',duplicate_apps_android[:10])\n",
      "metadata": {},
      "execution_count": 7,
      "outputs": [
        {
          "name": "stdout",
          "output_type": "stream",
          "text": "Google Play Store duplicates: 1181\n\n\n\n\n\nExamples ['Quick PDF Scanner + OCR FREE', 'Box', 'Google My Business', 'ZOOM Cloud Meetings', 'join.me - Simple Meetings', 'Box', 'Zenefits', 'Google Ads', 'Google My Business', 'Slack']\n"
        }
      ]
    },
    {
      "cell_type": "markdown",
      "source": "For all apps, create a dictionary that selects the app name and highest number of ratings. ",
      "metadata": {}
    },
    {
      "cell_type": "code",
      "source": "reviews_max = {}\n\nfor app in android_data:\n    name = app[0]\n    n_reviews = float(app[3])\n    \n    if name in reviews_max and reviews_max[name] < n_reviews:\n        reviews_max[name] = n_reviews\n        \n    elif name not in reviews_max:\n        reviews_max[name] = n_reviews\n\nprint(len(reviews_max))",
      "metadata": {},
      "execution_count": 8,
      "outputs": [
        {
          "name": "stdout",
          "output_type": "stream",
          "text": "9659\n"
        }
      ]
    },
    {
      "cell_type": "markdown",
      "source": "If the row matches the max reviews in the dictionary, keep it and add to the android_clean list.",
      "metadata": {}
    },
    {
      "cell_type": "code",
      "source": "android_clean = []\nalready_added = []\n\nfor app in android_data:\n    name = app[0]\n    n_reviews = float(app[3])\n    \n    if (reviews_max[name]==n_reviews) and (name not in already_added):\n        android_clean.append(app)\n        already_added.append(name)\n\nprint(len(android_clean))    \n",
      "metadata": {},
      "execution_count": 9,
      "outputs": [
        {
          "name": "stdout",
          "output_type": "stream",
          "text": "9659\n"
        }
      ]
    },
    {
      "cell_type": "markdown",
      "source": "Create function to identify all apps wih non-English chars.",
      "metadata": {}
    },
    {
      "cell_type": "code",
      "source": "def char_detect(string):\n    non_ascii = 0\n    for char in string:\n        if ord(char) > 127:\n            non_ascii += 1\n        \n    if non_ascii > 3:\n        return False\n    else:\n        return True",
      "metadata": {
        "scrolled": true
      },
      "execution_count": 10,
      "outputs": []
    },
    {
      "cell_type": "code",
      "source": "android_clean_english = []\n\nfor app in android_clean:\n    name = app[0]\n    if char_detect(name):\n        android_clean_english.append(app)\n\nprint(android_clean_english[:10])\nprint(len(android_clean_english))\n",
      "metadata": {},
      "execution_count": 11,
      "outputs": [
        {
          "name": "stdout",
          "output_type": "stream",
          "text": "[['Photo Editor & Candy Camera & Grid & ScrapBook', 'ART_AND_DESIGN', '4.1', '159', '19M', '10,000+', 'Free', '0', 'Everyone', 'Art & Design', 'January 7, 2018', '1.0.0', '4.0.3 and up'], ['U Launcher Lite – FREE Live Cool Themes, Hide Apps', 'ART_AND_DESIGN', '4.7', '87510', '8.7M', '5,000,000+', 'Free', '0', 'Everyone', 'Art & Design', 'August 1, 2018', '1.2.4', '4.0.3 and up'], ['Sketch - Draw & Paint', 'ART_AND_DESIGN', '4.5', '215644', '25M', '50,000,000+', 'Free', '0', 'Teen', 'Art & Design', 'June 8, 2018', 'Varies with device', '4.2 and up'], ['Pixel Draw - Number Art Coloring Book', 'ART_AND_DESIGN', '4.3', '967', '2.8M', '100,000+', 'Free', '0', 'Everyone', 'Art & Design;Creativity', 'June 20, 2018', '1.1', '4.4 and up'], ['Paper flowers instructions', 'ART_AND_DESIGN', '4.4', '167', '5.6M', '50,000+', 'Free', '0', 'Everyone', 'Art & Design', 'March 26, 2017', '1.0', '2.3 and up'], ['Smoke Effect Photo Maker - Smoke Editor', 'ART_AND_DESIGN', '3.8', '178', '19M', '50,000+', 'Free', '0', 'Everyone', 'Art & Design', 'April 26, 2018', '1.1', '4.0.3 and up'], ['Infinite Painter', 'ART_AND_DESIGN', '4.1', '36815', '29M', '1,000,000+', 'Free', '0', 'Everyone', 'Art & Design', 'June 14, 2018', '6.1.61.1', '4.2 and up'], ['Garden Coloring Book', 'ART_AND_DESIGN', '4.4', '13791', '33M', '1,000,000+', 'Free', '0', 'Everyone', 'Art & Design', 'September 20, 2017', '2.9.2', '3.0 and up'], ['Kids Paint Free - Drawing Fun', 'ART_AND_DESIGN', '4.7', '121', '3.1M', '10,000+', 'Free', '0', 'Everyone', 'Art & Design;Creativity', 'July 3, 2018', '2.8', '4.0.3 and up'], ['Text on Photo - Fonteee', 'ART_AND_DESIGN', '4.4', '13880', '28M', '1,000,000+', 'Free', '0', 'Everyone', 'Art & Design', 'October 27, 2017', '1.0.4', '4.1 and up']]\n\n9614\n"
        }
      ]
    },
    {
      "cell_type": "markdown",
      "source": "Isolate dataset to free apps only.",
      "metadata": {}
    },
    {
      "cell_type": "code",
      "source": "android_clean_english_free = []\n\nfor app in android_clean_english:\n    price = app[7]\n    if price == '0':\n        android_clean_english_free.append(app)\n        \nprint(len(android_clean_english_free))",
      "metadata": {},
      "execution_count": 12,
      "outputs": [
        {
          "name": "stdout",
          "output_type": "stream",
          "text": "8864\n"
        }
      ]
    },
    {
      "cell_type": "markdown",
      "source": "Analyze apps by Category column. Determine percent of totals apps for each Category.",
      "metadata": {}
    },
    {
      "cell_type": "code",
      "source": "def freq_table_percent(dataset,index):\n\n    column_analysis = {}\n    total = len(dataset)\n\n    for app in dataset:\n        column = app[index]\n        if column in column_analysis:\n            column_analysis[column] += 1\n        else:\n            column_analysis[column] = 1\n    \n    app_percentages = {}\n    for app in column_analysis:    \n        percentage = (column_analysis[app] / total) * 100\n        app_percentages[app] = percentage\n        \n    return app_percentages",
      "metadata": {},
      "execution_count": 13,
      "outputs": []
    },
    {
      "cell_type": "markdown",
      "source": "Create a function that will call the frequency table percent function above and sort the frequency table produced from largest to smallest.",
      "metadata": {}
    },
    {
      "cell_type": "code",
      "source": "def display_table(dataset, index):\n    table = freq_table_percent(dataset, index)\n    table_display = []\n    for key in table:\n        key_val_as_tuple = (table[key], key)\n        table_display.append(key_val_as_tuple)\n\n    table_sorted = sorted(table_display, reverse = True)\n    for entry in table_sorted:\n        print(entry[1], ':', entry[0])",
      "metadata": {},
      "execution_count": 14,
      "outputs": []
    },
    {
      "cell_type": "code",
      "source": "display_table(android_clean_english_free,1) #category",
      "metadata": {},
      "execution_count": 15,
      "outputs": [
        {
          "name": "stdout",
          "output_type": "stream",
          "text": "FAMILY : 18.907942238267147\n\nGAME : 9.724729241877256\n\nTOOLS : 8.461191335740072\n\nBUSINESS : 4.591606498194946\n\nLIFESTYLE : 3.9034296028880866\n\nPRODUCTIVITY : 3.892148014440433\n\nFINANCE : 3.7003610108303246\n\nMEDICAL : 3.531137184115524\n\nSPORTS : 3.395758122743682\n\nPERSONALIZATION : 3.3167870036101084\n\nCOMMUNICATION : 3.2378158844765346\n\nHEALTH_AND_FITNESS : 3.0798736462093865\n\nPHOTOGRAPHY : 2.944494584837545\n\nNEWS_AND_MAGAZINES : 2.7978339350180503\n\nSOCIAL : 2.6624548736462095\n\nTRAVEL_AND_LOCAL : 2.33528880866426\n\nSHOPPING : 2.2450361010830324\n\nBOOKS_AND_REFERENCE : 2.1435018050541514\n\nDATING : 1.861462093862816\n\nVIDEO_PLAYERS : 1.7937725631768955\n\nMAPS_AND_NAVIGATION : 1.3989169675090252\n\nFOOD_AND_DRINK : 1.2409747292418771\n\nEDUCATION : 1.1620036101083033\n\nENTERTAINMENT : 0.9589350180505415\n\nLIBRARIES_AND_DEMO : 0.9363718411552346\n\nAUTO_AND_VEHICLES : 0.9250902527075812\n\nHOUSE_AND_HOME : 0.8235559566787004\n\nWEATHER : 0.8009927797833934\n\nEVENTS : 0.7107400722021661\n\nPARENTING : 0.6543321299638989\n\nART_AND_DESIGN : 0.6430505415162455\n\nCOMICS : 0.6204873646209386\n\nBEAUTY : 0.5979241877256317\n"
        }
      ]
    },
    {
      "cell_type": "markdown",
      "source": "Create function that can pull categories from frequency table and calculate average for Installs or Rating. Remove any strings ('NaN') that cannot be converted to a number. Remove special characters so that strings from Installs can be converted.Then update value to average Installs or Rating. Lastly, sort the values from high to low.\n\nNOTE: since installs are given in a range (e.g. 10,000+, 50,000+, 100,000+,), installs are estimated as being the bottom number used to name the range.",
      "metadata": {}
    },
    {
      "cell_type": "code",
      "source": "def avg_metric(dataset,metric_index,dim_index=1):\n    \n    import operator\n    avg_metric_dict = freq_table_percent(dataset,dim_index)\n    \n\n    for category in avg_metric_dict:\n        total = 0\n        len_metric = 0\n\n        for app in dataset:\n            category_app = app[dim_index]\n            if category_app == category:\n                metric = app[metric_index]\n                if metric.find('.') == 1 and metric != 'NaN':\n                    dec_metric = float(metric)\n                    \n                elif metric.find('.') != 1 and metric != 'NaN':\n                    metric = metric.replace(',', '')\n                    metric = metric.replace('+', '')\n                    dec_metric = float(metric)\n                    total += dec_metric\n                    len_metric += 1\n            \n                total += dec_metric\n                len_metric += 1 \n            \n        metric_avg = total / len_metric\n        avg_metric_dict[category] = metric_avg\n        \n        sorted_values = sorted(avg_metric_dict.items(), key=operator.itemgetter(1))\n        sorted_values = dict(sorted(avg_metric_dict.items(), key=operator.itemgetter(1),reverse=True))\n        \n    return sorted_values\n\n",
      "metadata": {},
      "execution_count": 16,
      "outputs": []
    },
    {
      "cell_type": "code",
      "source": "avg_metric(android_clean_english_free,5) #installs",
      "metadata": {
        "scrolled": true
      },
      "execution_count": 17,
      "outputs": [
        {
          "execution_count": 17,
          "output_type": "execute_result",
          "data": {
            "text/plain": [
              "{'COMMUNICATION': 38456119.167247385,\n",
              " 'VIDEO_PLAYERS': 24727872.452830188,\n",
              " 'SOCIAL': 23253652.127118643,\n",
              " 'PHOTOGRAPHY': 17840110.40229885,\n",
              " 'PRODUCTIVITY': 16787331.344927534,\n",
              " 'GAME': 15588015.603248259,\n",
              " 'TRAVEL_AND_LOCAL': 13984077.710144928,\n",
              " 'ENTERTAINMENT': 11640705.88235294,\n",
              " 'TOOLS': 10801391.298666667,\n",
              " 'NEWS_AND_MAGAZINES': 9549178.467741935,\n",
              " 'BOOKS_AND_REFERENCE': 8767811.894736841,\n",
              " 'SHOPPING': 7036877.311557789,\n",
              " 'PERSONALIZATION': 5201482.6122448975,\n",
              " 'WEATHER': 5074486.197183099,\n",
              " 'HEALTH_AND_FITNESS': 4188821.9853479853,\n",
              " 'MAPS_AND_NAVIGATION': 4056941.7741935486,\n",
              " 'FAMILY': 3695641.8198090694,\n",
              " 'SPORTS': 3638640.1428571427,\n",
              " 'ART_AND_DESIGN': 1986335.0877192982,\n",
              " 'FOOD_AND_DRINK': 1924897.7363636363,\n",
              " 'EDUCATION': 1833495.145631068,\n",
              " 'BUSINESS': 1712290.1474201474,\n",
              " 'LIFESTYLE': 1437816.2687861272,\n",
              " 'FINANCE': 1387692.475609756,\n",
              " 'HOUSE_AND_HOME': 1331540.5616438356,\n",
              " 'DATING': 854028.8303030303,\n",
              " 'COMICS': 817657.2727272727,\n",
              " 'AUTO_AND_VEHICLES': 647317.8170731707,\n",
              " 'LIBRARIES_AND_DEMO': 638503.734939759,\n",
              " 'PARENTING': 542603.6206896552,\n",
              " 'BEAUTY': 513151.88679245283,\n",
              " 'EVENTS': 253542.22222222222,\n",
              " 'MEDICAL': 120550.61980830671}"
            ]
          },
          "metadata": {}
        }
      ]
    },
    {
      "cell_type": "code",
      "source": "avg_metric(android_clean_english_free,2) #rating",
      "metadata": {},
      "execution_count": 18,
      "outputs": [
        {
          "execution_count": 18,
          "output_type": "execute_result",
          "data": {
            "text/plain": [
              "{'EVENTS': 4.439682539682542,\n",
              " 'ART_AND_DESIGN': 4.345614035087719,\n",
              " 'EDUCATION': 4.34271844660194,\n",
              " 'BOOKS_AND_REFERENCE': 4.333684210526316,\n",
              " 'PARENTING': 4.3275862068965525,\n",
              " 'PERSONALIZATION': 4.300680272108847,\n",
              " 'SOCIAL': 4.276694915254236,\n",
              " 'BEAUTY': 4.243396226415094,\n",
              " 'SPORTS': 4.242192691029909,\n",
              " 'WEATHER': 4.222535211267605,\n",
              " 'SHOPPING': 4.218592964824123,\n",
              " 'GAME': 4.217517401392118,\n",
              " 'LIBRARIES_AND_DEMO': 4.2144578313253,\n",
              " 'COMICS': 4.198181818181819,\n",
              " 'HEALTH_AND_FITNESS': 4.193406593406592,\n",
              " 'FOOD_AND_DRINK': 4.178181818181818,\n",
              " 'MEDICAL': 4.172523961661343,\n",
              " 'FAMILY': 4.166467780429597,\n",
              " 'PRODUCTIVITY': 4.157681159420297,\n",
              " 'AUTO_AND_VEHICLES': 4.156097560975611,\n",
              " 'PHOTOGRAPHY': 4.145210727969348,\n",
              " 'COMMUNICATION': 4.132404181184663,\n",
              " 'ENTERTAINMENT': 4.118823529411763,\n",
              " 'LIFESTYLE': 4.108670520231213,\n",
              " 'FINANCE': 4.106097560975613,\n",
              " 'BUSINESS': 4.103194103194107,\n",
              " 'HOUSE_AND_HOME': 4.083561643835616,\n",
              " 'NEWS_AND_MAGAZINES': 4.068145161290324,\n",
              " 'VIDEO_PLAYERS': 4.051572327044024,\n",
              " 'MAPS_AND_NAVIGATION': 4.048387096774193,\n",
              " 'TOOLS': 4.039866666666666,\n",
              " 'TRAVEL_AND_LOCAL': 4.02367149758454,\n",
              " 'DATING': 3.9266666666666694}"
            ]
          },
          "metadata": {}
        }
      ]
    },
    {
      "cell_type": "markdown",
      "source": "The top 3 categories when looking at all apps from the Google Play store are family, game, and tools. The top 3 categories for most installs are communication (e.g. WhatsApp, Skype), video players (e.g. YouTube), and social (Facebook, Twitter, Snapchat). The top 3 rated app categories are events, art & design, and education. Depending on how you slice the data, you’ll get a different answer for what app category to build a new app for. Advertising revenue would be based on users downloading the app and using it often. For that reason, the results of most installs should be prioritized over the others. That said, it may not be wise to build an app within the top 3 (communication, video players, social) as that market is saturated. Perhaps one of the other categories from the top 10 of most installs would be a place to start. We would need to dig deeper into user behavior to understand which apps have the highest engagement from users, and would drive the highest ad profits. ",
      "metadata": {}
    }
  ]
}